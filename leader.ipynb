{
 "cells": [
  {
   "cell_type": "code",
   "execution_count": 1,
   "metadata": {},
   "outputs": [
    {
     "name": "stdout",
     "output_type": "stream",
     "text": [
      "Requirement already up-to-date: wandb in c:\\users\\lloyd\\anaconda3\\lib\\site-packages (0.12.11)\n",
      "Requirement already satisfied, skipping upgrade: psutil>=5.0.0 in c:\\users\\lloyd\\anaconda3\\lib\\site-packages (from wandb) (5.6.7)\n",
      "Requirement already satisfied, skipping upgrade: Click!=8.0.0,>=7.0 in c:\\users\\lloyd\\anaconda3\\lib\\site-packages (from wandb) (7.0)\n",
      "Requirement already satisfied, skipping upgrade: sentry-sdk>=1.0.0 in c:\\users\\lloyd\\anaconda3\\lib\\site-packages (from wandb) (1.5.7)\n",
      "Requirement already satisfied, skipping upgrade: docker-pycreds>=0.4.0 in c:\\users\\lloyd\\anaconda3\\lib\\site-packages (from wandb) (0.4.0)\n",
      "Requirement already satisfied, skipping upgrade: pathtools in c:\\users\\lloyd\\anaconda3\\lib\\site-packages (from wandb) (0.1.2)\n",
      "Requirement already satisfied, skipping upgrade: promise<3,>=2.0 in c:\\users\\lloyd\\anaconda3\\lib\\site-packages (from wandb) (2.3)\n",
      "Requirement already satisfied, skipping upgrade: python-dateutil>=2.6.1 in c:\\users\\lloyd\\anaconda3\\lib\\site-packages (from wandb) (2.8.1)\n",
      "Requirement already satisfied, skipping upgrade: six>=1.13.0 in c:\\users\\lloyd\\anaconda3\\lib\\site-packages (from wandb) (1.16.0)\n",
      "Requirement already satisfied, skipping upgrade: protobuf>=3.12.0 in c:\\users\\lloyd\\anaconda3\\lib\\site-packages (from wandb) (3.19.4)\n",
      "Requirement already satisfied, skipping upgrade: PyYAML in c:\\users\\lloyd\\anaconda3\\lib\\site-packages (from wandb) (5.3)\n",
      "Requirement already satisfied, skipping upgrade: requests<3,>=2.0.0 in c:\\users\\lloyd\\anaconda3\\lib\\site-packages (from wandb) (2.22.0)\n",
      "Requirement already satisfied, skipping upgrade: GitPython>=1.0.0 in c:\\users\\lloyd\\anaconda3\\lib\\site-packages (from wandb) (3.1.27)\n",
      "Requirement already satisfied, skipping upgrade: setproctitle in c:\\users\\lloyd\\anaconda3\\lib\\site-packages (from wandb) (1.2.2)\n",
      "Requirement already satisfied, skipping upgrade: yaspin>=1.0.0 in c:\\users\\lloyd\\anaconda3\\lib\\site-packages (from wandb) (2.1.0)\n",
      "Requirement already satisfied, skipping upgrade: shortuuid>=0.5.0 in c:\\users\\lloyd\\anaconda3\\lib\\site-packages (from wandb) (1.0.8)\n",
      "Requirement already satisfied, skipping upgrade: certifi in c:\\users\\lloyd\\anaconda3\\lib\\site-packages (from sentry-sdk>=1.0.0->wandb) (2019.11.28)\n",
      "Requirement already satisfied, skipping upgrade: urllib3>=1.10.0 in c:\\users\\lloyd\\anaconda3\\lib\\site-packages (from sentry-sdk>=1.0.0->wandb) (1.25.8)\n",
      "Requirement already satisfied, skipping upgrade: idna<2.9,>=2.5 in c:\\users\\lloyd\\anaconda3\\lib\\site-packages (from requests<3,>=2.0.0->wandb) (2.8)\n",
      "Requirement already satisfied, skipping upgrade: chardet<3.1.0,>=3.0.2 in c:\\users\\lloyd\\anaconda3\\lib\\site-packages (from requests<3,>=2.0.0->wandb) (3.0.4)\n",
      "Requirement already satisfied, skipping upgrade: gitdb<5,>=4.0.1 in c:\\users\\lloyd\\anaconda3\\lib\\site-packages (from GitPython>=1.0.0->wandb) (4.0.9)\n",
      "Requirement already satisfied, skipping upgrade: typing-extensions>=3.7.4.3; python_version < \"3.8\" in c:\\users\\lloyd\\anaconda3\\lib\\site-packages (from GitPython>=1.0.0->wandb) (4.1.1)\n",
      "Requirement already satisfied, skipping upgrade: termcolor<2.0.0,>=1.1.0 in c:\\users\\lloyd\\anaconda3\\lib\\site-packages (from yaspin>=1.0.0->wandb) (1.1.0)\n",
      "Requirement already satisfied, skipping upgrade: smmap<6,>=3.0.1 in c:\\users\\lloyd\\anaconda3\\lib\\site-packages (from gitdb<5,>=4.0.1->GitPython>=1.0.0->wandb) (5.0.0)\n"
     ]
    }
   ],
   "source": [
    "!pip install --upgrade wandb"
   ]
  },
  {
   "cell_type": "code",
   "execution_count": 2,
   "metadata": {},
   "outputs": [],
   "source": [
    "import torch\n",
    "import torchvision\n",
    "import torchvision.transforms as transforms\n",
    "import torch.optim as optim\n",
    "import torch.nn.functional as F\n",
    "import torch.nn as nn\n",
    "import wandb\n",
    "import os\n",
    "from typing import Any, Dict, List\n",
    "import copy\n",
    "import random\n",
    "import wandb"
   ]
  },
  {
   "cell_type": "code",
   "execution_count": null,
   "metadata": {},
   "outputs": [],
   "source": [
    "class Leader:\n",
    "    def __init__(self,\n",
    "                 leader_id: Any,\n",
    "                 model: torch.nn.Module,\n",
    "                 loss: torch.nn.modules.loss._Loss,\n",
    "                 optimizer: torch.optim.Optimizer,\n",
    "                 optimizer_conf: Dict,\n",
    "                 batch_size: int,\n",
    "                 epochs: int,\n",
    "                 server=None) -> None:\n",
    "        self.leader_id = leader_id\n",
    "        self.model = model\n",
    "        self.loss = loss\n",
    "        self.optimizer = optimizer(self.model.parameters(), **optimizer_conf)\n",
    "        self.batch_size = batch_size\n",
    "        self.epochs = epochs\n",
    "        self.server = server\n",
    "        self.accuracy = None\n",
    "        self.total_loss = None\n",
    "\n",
    "        self.data = None\n",
    "        self.data_loader = None\n",
    "        \n",
    "    def setData(self, data):\n",
    "        self.data = data\n",
    "        self.data_loader = torch.utils.data.DataLoader(self.data,\n",
    "                                                       batch_size=self.batch_size,\n",
    "                                                       shuffle=True)\n",
    "        self.server.total_data += len(self.data)\n",
    "\n",
    "    def update_weights(self):\n",
    "        for eps in range(self.epochs):\n",
    "            total_loss = 0\n",
    "            total_batches = 0\n",
    "            total_correct = 0\n",
    "\n",
    "            for _, (feature, label) in enumerate(self.data_loader):\n",
    "                feature = feature.to(device)\n",
    "                label = label.to(device)\n",
    "                \n",
    "                y_pred = self.model(feature)\n",
    "                y_pred_decode = torch.argmax(y_pred, dim=1)\n",
    "                \n",
    "                total_correct += y_pred_decode.eq(label).sum().item()\n",
    "                loss = self.loss(y_pred, label)\n",
    "                \n",
    "                self.optimizer.zero_grad(set_to_none=True)\n",
    "                loss.backward()\n",
    "                self.optimizer.step()\n",
    "                \n",
    "                total_loss += loss.item()\n",
    "                total_batches += 1\n",
    "                \n",
    "\n",
    "            self.total_loss = total_loss / total_batches\n",
    "            self.accuracy = total_correct / (total_batches * self.batch_size)\n"
   ]
  }
 ],
 "metadata": {
  "kernelspec": {
   "display_name": "Python 3",
   "language": "python",
   "name": "python3"
  },
  "language_info": {
   "codemirror_mode": {
    "name": "ipython",
    "version": 3
   },
   "file_extension": ".py",
   "mimetype": "text/x-python",
   "name": "python",
   "nbconvert_exporter": "python",
   "pygments_lexer": "ipython3",
   "version": "3.7.6"
  }
 },
 "nbformat": 4,
 "nbformat_minor": 4
}
