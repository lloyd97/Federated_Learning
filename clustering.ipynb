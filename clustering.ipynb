{
 "cells": [
  {
   "cell_type": "code",
   "execution_count": 14,
   "metadata": {},
   "outputs": [],
   "source": [
    "import random\n",
    "import numpy as np\n",
    "import logging\n",
    "import mobility\n",
    "from scipy.spatial.distance import cdist\n",
    "from mobility import gauss_markov, reference_point_group, \\\n",
    "    tvc, truncated_levy_walk, random_direction, random_waypoint, random_walk\n",
    "\n",
    "import torch\n",
    "import torchvision\n",
    "import torchvision.transforms as transforms\n",
    "import torch.optim as optim\n",
    "import torch.nn.functional as F\n",
    "import torch.nn as nn\n",
    "import wandb\n",
    "import os\n",
    "from typing import Any, Dict, List\n",
    "import copy\n",
    "import random\n",
    "import wandb"
   ]
  },
  {
   "cell_type": "code",
   "execution_count": 1,
   "metadata": {},
   "outputs": [],
   "source": [
    "class Cluster:\n",
    "    def __init__(self,\n",
    "                 nr_nodes: int,\n",
    "                 step: 0,\n",
    "                 MAX_X: int,\n",
    "                 MAX_Y: int,\n",
    "                 MIN_V: 0.1,\n",
    "                 MAX_V: 1,\n",
    "                 MAX_WT: int,\n",
    "                 STEPS_TO_IGNORE: 10000,\n",
    "                 CALCULATE_CONTACTS: False,\n",
    "                 RANGE: 1,\n",
    "                 rw=None) -> None:\n",
    "        \n",
    "        self.nr_nodes = nr_nodes\n",
    "        self.step = 0\n",
    "        np.random.seed(0xffff)\n",
    "        self.MAX_X, self.MAX_Y = 100, 100\n",
    "        self.MIN_V, self.MAX_V = 0.1, 1.\n",
    "        self.MAX_WT = 100.\n",
    "        self.STEPS_TO_IGNORE = 10000\n",
    "        self.CALCULATE_CONTACTS = False\n",
    "        self.RANGE = 1.\n",
    "        self.rw = mobility.random_walk(self.nr_nodes, dimensions=(self.MAX_X, self.MAX_Y))\n",
    "\n",
    "    def coord(self,rw):\n",
    "        self.step += 1\n",
    "        positions = next(self.rw)\n",
    "        #print(str('position: ') + str(positions))\n",
    "        return positions\n",
    "        \n"
   ]
  },
  {
   "cell_type": "code",
   "execution_count": null,
   "metadata": {},
   "outputs": [],
   "source": []
  }
 ],
 "metadata": {
  "kernelspec": {
   "display_name": "Python 3",
   "language": "python",
   "name": "python3"
  },
  "language_info": {
   "codemirror_mode": {
    "name": "ipython",
    "version": 3
   },
   "file_extension": ".py",
   "mimetype": "text/x-python",
   "name": "python",
   "nbconvert_exporter": "python",
   "pygments_lexer": "ipython3",
   "version": "3.7.6"
  }
 },
 "nbformat": 4,
 "nbformat_minor": 4
}
