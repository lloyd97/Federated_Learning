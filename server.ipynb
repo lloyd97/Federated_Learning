{
 "cells": [
  {
   "cell_type": "code",
   "execution_count": 6,
   "metadata": {},
   "outputs": [
    {
     "name": "stdout",
     "output_type": "stream",
     "text": [
      "Requirement already up-to-date: wandb in c:\\users\\lloyd\\anaconda3\\lib\\site-packages (0.12.11)\n",
      "Requirement already satisfied, skipping upgrade: python-dateutil>=2.6.1 in c:\\users\\lloyd\\anaconda3\\lib\\site-packages (from wandb) (2.8.1)\n",
      "Requirement already satisfied, skipping upgrade: psutil>=5.0.0 in c:\\users\\lloyd\\anaconda3\\lib\\site-packages (from wandb) (5.6.7)\n",
      "Requirement already satisfied, skipping upgrade: Click!=8.0.0,>=7.0 in c:\\users\\lloyd\\anaconda3\\lib\\site-packages (from wandb) (7.0)\n",
      "Requirement already satisfied, skipping upgrade: pathtools in c:\\users\\lloyd\\anaconda3\\lib\\site-packages (from wandb) (0.1.2)\n",
      "Requirement already satisfied, skipping upgrade: six>=1.13.0 in c:\\users\\lloyd\\anaconda3\\lib\\site-packages (from wandb) (1.16.0)\n",
      "Requirement already satisfied, skipping upgrade: shortuuid>=0.5.0 in c:\\users\\lloyd\\anaconda3\\lib\\site-packages (from wandb) (1.0.8)\n",
      "Requirement already satisfied, skipping upgrade: sentry-sdk>=1.0.0 in c:\\users\\lloyd\\anaconda3\\lib\\site-packages (from wandb) (1.5.7)\n",
      "Requirement already satisfied, skipping upgrade: protobuf>=3.12.0 in c:\\users\\lloyd\\anaconda3\\lib\\site-packages (from wandb) (3.19.4)\n",
      "Requirement already satisfied, skipping upgrade: yaspin>=1.0.0 in c:\\users\\lloyd\\anaconda3\\lib\\site-packages (from wandb) (2.1.0)\n",
      "Requirement already satisfied, skipping upgrade: promise<3,>=2.0 in c:\\users\\lloyd\\anaconda3\\lib\\site-packages (from wandb) (2.3)\n",
      "Requirement already satisfied, skipping upgrade: setproctitle in c:\\users\\lloyd\\anaconda3\\lib\\site-packages (from wandb) (1.2.2)\n",
      "Requirement already satisfied, skipping upgrade: GitPython>=1.0.0 in c:\\users\\lloyd\\anaconda3\\lib\\site-packages (from wandb) (3.1.27)\n",
      "Requirement already satisfied, skipping upgrade: requests<3,>=2.0.0 in c:\\users\\lloyd\\anaconda3\\lib\\site-packages (from wandb) (2.22.0)\n",
      "Requirement already satisfied, skipping upgrade: PyYAML in c:\\users\\lloyd\\anaconda3\\lib\\site-packages (from wandb) (5.3)\n",
      "Requirement already satisfied, skipping upgrade: docker-pycreds>=0.4.0 in c:\\users\\lloyd\\anaconda3\\lib\\site-packages (from wandb) (0.4.0)\n",
      "Requirement already satisfied, skipping upgrade: certifi in c:\\users\\lloyd\\anaconda3\\lib\\site-packages (from sentry-sdk>=1.0.0->wandb) (2019.11.28)\n",
      "Requirement already satisfied, skipping upgrade: urllib3>=1.10.0 in c:\\users\\lloyd\\anaconda3\\lib\\site-packages (from sentry-sdk>=1.0.0->wandb) (1.25.8)\n",
      "Requirement already satisfied, skipping upgrade: termcolor<2.0.0,>=1.1.0 in c:\\users\\lloyd\\anaconda3\\lib\\site-packages (from yaspin>=1.0.0->wandb) (1.1.0)\n",
      "Requirement already satisfied, skipping upgrade: typing-extensions>=3.7.4.3; python_version < \"3.8\" in c:\\users\\lloyd\\anaconda3\\lib\\site-packages (from GitPython>=1.0.0->wandb) (4.1.1)\n",
      "Requirement already satisfied, skipping upgrade: gitdb<5,>=4.0.1 in c:\\users\\lloyd\\anaconda3\\lib\\site-packages (from GitPython>=1.0.0->wandb) (4.0.9)\n",
      "Requirement already satisfied, skipping upgrade: chardet<3.1.0,>=3.0.2 in c:\\users\\lloyd\\anaconda3\\lib\\site-packages (from requests<3,>=2.0.0->wandb) (3.0.4)\n",
      "Requirement already satisfied, skipping upgrade: idna<2.9,>=2.5 in c:\\users\\lloyd\\anaconda3\\lib\\site-packages (from requests<3,>=2.0.0->wandb) (2.8)\n",
      "Requirement already satisfied, skipping upgrade: smmap<6,>=3.0.1 in c:\\users\\lloyd\\anaconda3\\lib\\site-packages (from gitdb<5,>=4.0.1->GitPython>=1.0.0->wandb) (5.0.0)\n"
     ]
    }
   ],
   "source": [
    "!pip install --upgrade wandb"
   ]
  },
  {
   "cell_type": "code",
   "execution_count": 1,
   "metadata": {},
   "outputs": [
    {
     "name": "stdout",
     "output_type": "stream",
     "text": [
      "Requirement already up-to-date: wandb in c:\\users\\lloyd\\anaconda3\\lib\\site-packages (0.12.11)\n",
      "Requirement already satisfied, skipping upgrade: setproctitle in c:\\users\\lloyd\\anaconda3\\lib\\site-packages (from wandb) (1.2.2)\n",
      "Requirement already satisfied, skipping upgrade: protobuf>=3.12.0 in c:\\users\\lloyd\\anaconda3\\lib\\site-packages (from wandb) (3.19.4)\n",
      "Requirement already satisfied, skipping upgrade: psutil>=5.0.0 in c:\\users\\lloyd\\anaconda3\\lib\\site-packages (from wandb) (5.6.7)\n",
      "Requirement already satisfied, skipping upgrade: PyYAML in c:\\users\\lloyd\\anaconda3\\lib\\site-packages (from wandb) (5.3)\n",
      "Requirement already satisfied, skipping upgrade: yaspin>=1.0.0 in c:\\users\\lloyd\\anaconda3\\lib\\site-packages (from wandb) (2.1.0)\n",
      "Requirement already satisfied, skipping upgrade: Click!=8.0.0,>=7.0 in c:\\users\\lloyd\\anaconda3\\lib\\site-packages (from wandb) (7.0)\n",
      "Requirement already satisfied, skipping upgrade: promise<3,>=2.0 in c:\\users\\lloyd\\anaconda3\\lib\\site-packages (from wandb) (2.3)\n",
      "Requirement already satisfied, skipping upgrade: docker-pycreds>=0.4.0 in c:\\users\\lloyd\\anaconda3\\lib\\site-packages (from wandb) (0.4.0)\n",
      "Requirement already satisfied, skipping upgrade: requests<3,>=2.0.0 in c:\\users\\lloyd\\anaconda3\\lib\\site-packages (from wandb) (2.22.0)\n",
      "Requirement already satisfied, skipping upgrade: six>=1.13.0 in c:\\users\\lloyd\\anaconda3\\lib\\site-packages (from wandb) (1.16.0)\n",
      "Requirement already satisfied, skipping upgrade: pathtools in c:\\users\\lloyd\\anaconda3\\lib\\site-packages (from wandb) (0.1.2)\n",
      "Requirement already satisfied, skipping upgrade: GitPython>=1.0.0 in c:\\users\\lloyd\\anaconda3\\lib\\site-packages (from wandb) (3.1.27)\n",
      "Requirement already satisfied, skipping upgrade: python-dateutil>=2.6.1 in c:\\users\\lloyd\\anaconda3\\lib\\site-packages (from wandb) (2.8.1)\n",
      "Requirement already satisfied, skipping upgrade: sentry-sdk>=1.0.0 in c:\\users\\lloyd\\anaconda3\\lib\\site-packages (from wandb) (1.5.7)\n",
      "Requirement already satisfied, skipping upgrade: shortuuid>=0.5.0 in c:\\users\\lloyd\\anaconda3\\lib\\site-packages (from wandb) (1.0.8)\n",
      "Requirement already satisfied, skipping upgrade: termcolor<2.0.0,>=1.1.0 in c:\\users\\lloyd\\anaconda3\\lib\\site-packages (from yaspin>=1.0.0->wandb) (1.1.0)\n",
      "Requirement already satisfied, skipping upgrade: certifi>=2017.4.17 in c:\\users\\lloyd\\anaconda3\\lib\\site-packages (from requests<3,>=2.0.0->wandb) (2019.11.28)\n",
      "Requirement already satisfied, skipping upgrade: chardet<3.1.0,>=3.0.2 in c:\\users\\lloyd\\anaconda3\\lib\\site-packages (from requests<3,>=2.0.0->wandb) (3.0.4)\n",
      "Requirement already satisfied, skipping upgrade: urllib3!=1.25.0,!=1.25.1,<1.26,>=1.21.1 in c:\\users\\lloyd\\anaconda3\\lib\\site-packages (from requests<3,>=2.0.0->wandb) (1.25.8)\n",
      "Requirement already satisfied, skipping upgrade: idna<2.9,>=2.5 in c:\\users\\lloyd\\anaconda3\\lib\\site-packages (from requests<3,>=2.0.0->wandb) (2.8)\n",
      "Requirement already satisfied, skipping upgrade: gitdb<5,>=4.0.1 in c:\\users\\lloyd\\anaconda3\\lib\\site-packages (from GitPython>=1.0.0->wandb) (4.0.9)\n",
      "Requirement already satisfied, skipping upgrade: typing-extensions>=3.7.4.3; python_version < \"3.8\" in c:\\users\\lloyd\\anaconda3\\lib\\site-packages (from GitPython>=1.0.0->wandb) (4.1.1)\n",
      "Requirement already satisfied, skipping upgrade: smmap<6,>=3.0.1 in c:\\users\\lloyd\\anaconda3\\lib\\site-packages (from gitdb<5,>=4.0.1->GitPython>=1.0.0->wandb) (5.0.0)\n"
     ]
    }
   ],
   "source": [
    "import torch\n",
    "import torchvision\n",
    "import torchvision.transforms as transforms\n",
    "import torch.optim as optim\n",
    "import torch.nn.functional as F\n",
    "import torch.nn as nn\n",
    "import wandb\n",
    "import os\n",
    "from typing import Any, Dict, List\n",
    "import copy\n",
    "import random\n",
    "import wandb\n",
    "import clients"
   ]
  },
  {
   "cell_type": "code",
   "execution_count": 2,
   "metadata": {},
   "outputs": [],
   "source": [
    "device = torch.device(\"cuda\" if torch.cuda.is_available() else \"cpu\")\n",
    "os.environ[\"WANDB_API_KEY\"] = \"183c1a6a36cbdf0405f5baacb72690845ecc8573\""
   ]
  },
  {
   "cell_type": "code",
   "execution_count": 3,
   "metadata": {},
   "outputs": [],
   "source": [
    "\n",
    "class Server:\n",
    "    import clients\n",
    "    def __init__(self,\n",
    "                 model: torch.nn.Module,\n",
    "                 loss: torch.nn.modules.loss._Loss,\n",
    "                 optimizer: torch.optim.Optimizer,\n",
    "                 optimizer_conf: Dict,\n",
    "                 n_client: int = 10,\n",
    "                 chosen_prob: float = 0.8,\n",
    "                 local_batch_size: int = 8,\n",
    "                 local_epochs: int = 10) -> None:\n",
    "\n",
    "        # global model info\n",
    "        self.model = model\n",
    "        self.loss = loss\n",
    "        self.optimizer = optimizer\n",
    "        self.optimizer_conf = optimizer_conf\n",
    "        self.n_client = n_client\n",
    "        self.local_batch_size = local_batch_size\n",
    "        self.local_epochs = local_epochs\n",
    "        self.total_data = 0\n",
    "\n",
    "        # create clients\n",
    "        self.client_pool: List[clients.Client] = []\n",
    "        self.create_client()\n",
    "        self.chosen_prob = chosen_prob\n",
    "        self.avg_loss = 0\n",
    "        self.avg_acc = 0\n",
    "\n",
    "    def create_client(self):\n",
    "        import clients\n",
    "        # this function is reusable, so reset client pool is needed\n",
    "        self.client_pool: List[clients.Client] = []\n",
    "        self.total_data = 0\n",
    "\n",
    "        for i in range(self.n_client):\n",
    "            model = copy.deepcopy(self.model)\n",
    "            new_client = clients.Client(client_id=i,\n",
    "                                model=model,\n",
    "                                loss=self.loss,\n",
    "                                optimizer=self.optimizer,\n",
    "                                optimizer_conf=self.optimizer_conf,\n",
    "                                batch_size=self.local_batch_size,\n",
    "                                epochs=self.local_epochs,\n",
    "                                server=self)\n",
    "            self.client_pool.append(new_client)\n",
    "\n",
    "    def broadcast(self):\n",
    "        model_state_dict = copy.deepcopy(self.model.state_dict())\n",
    "        for client in self.client_pool:\n",
    "            client.model.load_state_dict(model_state_dict)\n",
    "\n",
    "    def aggregate(self):\n",
    "        self.avg_loss = 0\n",
    "        self.avg_acc = 0\n",
    "        chosen_clients = random.sample(self.client_pool,\n",
    "                                       int(len(self.client_pool) * self.chosen_prob))\n",
    "\n",
    "        global_model_weights = copy.deepcopy(self.model.state_dict())\n",
    "        for key in global_model_weights:\n",
    "            global_model_weights[key] = torch.zeros_like(\n",
    "                global_model_weights[key])\n",
    "\n",
    "        for client in chosen_clients:\n",
    "            client.update_weights()\n",
    "            print(f\"Client {client.client_id}: Acc {client.accuracy}, Loss: {client.total_loss}\")\n",
    "            self.avg_loss += 1 / len(chosen_clients) * client.total_loss\n",
    "            self.avg_acc += 1 / len(chosen_clients) * client.accuracy\n",
    "            local_model_weights = copy.deepcopy(client.model.state_dict())\n",
    "            for key in global_model_weights:\n",
    "                global_model_weights[key] += 1 / len(chosen_clients) * local_model_weights[key]\n",
    "\n",
    "        self.model.load_state_dict(global_model_weights)"
   ]
  },
  {
   "cell_type": "code",
   "execution_count": null,
   "metadata": {},
   "outputs": [],
   "source": []
  },
  {
   "cell_type": "code",
   "execution_count": null,
   "metadata": {},
   "outputs": [],
   "source": []
  }
 ],
 "metadata": {
  "kernelspec": {
   "display_name": "Python 3",
   "language": "python",
   "name": "python3"
  },
  "language_info": {
   "codemirror_mode": {
    "name": "ipython",
    "version": 3
   },
   "file_extension": ".py",
   "mimetype": "text/x-python",
   "name": "python",
   "nbconvert_exporter": "python",
   "pygments_lexer": "ipython3",
   "version": "3.7.6"
  }
 },
 "nbformat": 4,
 "nbformat_minor": 4
}
