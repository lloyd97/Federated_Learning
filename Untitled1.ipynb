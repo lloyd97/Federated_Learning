{
 "cells": [
  {
   "cell_type": "code",
   "execution_count": 1,
   "metadata": {},
   "outputs": [
    {
     "name": "stdout",
     "output_type": "stream",
     "text": [
      "Requirement already up-to-date: wandb in c:\\users\\lloyd\\anaconda3\\lib\\site-packages (0.12.11)\n",
      "Requirement already satisfied, skipping upgrade: promise<3,>=2.0 in c:\\users\\lloyd\\anaconda3\\lib\\site-packages (from wandb) (2.3)\n",
      "Requirement already satisfied, skipping upgrade: GitPython>=1.0.0 in c:\\users\\lloyd\\anaconda3\\lib\\site-packages (from wandb) (3.1.27)\n",
      "Requirement already satisfied, skipping upgrade: setproctitle in c:\\users\\lloyd\\anaconda3\\lib\\site-packages (from wandb) (1.2.2)\n",
      "Requirement already satisfied, skipping upgrade: shortuuid>=0.5.0 in c:\\users\\lloyd\\anaconda3\\lib\\site-packages (from wandb) (1.0.8)\n",
      "Requirement already satisfied, skipping upgrade: docker-pycreds>=0.4.0 in c:\\users\\lloyd\\anaconda3\\lib\\site-packages (from wandb) (0.4.0)\n",
      "Requirement already satisfied, skipping upgrade: sentry-sdk>=1.0.0 in c:\\users\\lloyd\\anaconda3\\lib\\site-packages (from wandb) (1.5.7)\n",
      "Requirement already satisfied, skipping upgrade: requests<3,>=2.0.0 in c:\\users\\lloyd\\anaconda3\\lib\\site-packages (from wandb) (2.22.0)\n",
      "Requirement already satisfied, skipping upgrade: psutil>=5.0.0 in c:\\users\\lloyd\\anaconda3\\lib\\site-packages (from wandb) (5.6.7)\n",
      "Requirement already satisfied, skipping upgrade: six>=1.13.0 in c:\\users\\lloyd\\anaconda3\\lib\\site-packages (from wandb) (1.16.0)\n",
      "Requirement already satisfied, skipping upgrade: Click!=8.0.0,>=7.0 in c:\\users\\lloyd\\anaconda3\\lib\\site-packages (from wandb) (7.0)\n",
      "Requirement already satisfied, skipping upgrade: pathtools in c:\\users\\lloyd\\anaconda3\\lib\\site-packages (from wandb) (0.1.2)\n",
      "Requirement already satisfied, skipping upgrade: protobuf>=3.12.0 in c:\\users\\lloyd\\anaconda3\\lib\\site-packages (from wandb) (3.19.4)\n",
      "Requirement already satisfied, skipping upgrade: PyYAML in c:\\users\\lloyd\\anaconda3\\lib\\site-packages (from wandb) (5.3)\n",
      "Requirement already satisfied, skipping upgrade: python-dateutil>=2.6.1 in c:\\users\\lloyd\\anaconda3\\lib\\site-packages (from wandb) (2.8.1)\n",
      "Requirement already satisfied, skipping upgrade: yaspin>=1.0.0 in c:\\users\\lloyd\\anaconda3\\lib\\site-packages (from wandb) (2.1.0)\n",
      "Requirement already satisfied, skipping upgrade: typing-extensions>=3.7.4.3; python_version < \"3.8\" in c:\\users\\lloyd\\anaconda3\\lib\\site-packages (from GitPython>=1.0.0->wandb) (4.1.1)\n",
      "Requirement already satisfied, skipping upgrade: gitdb<5,>=4.0.1 in c:\\users\\lloyd\\anaconda3\\lib\\site-packages (from GitPython>=1.0.0->wandb) (4.0.9)\n",
      "Requirement already satisfied, skipping upgrade: certifi in c:\\users\\lloyd\\anaconda3\\lib\\site-packages (from sentry-sdk>=1.0.0->wandb) (2019.11.28)\n",
      "Requirement already satisfied, skipping upgrade: urllib3>=1.10.0 in c:\\users\\lloyd\\anaconda3\\lib\\site-packages (from sentry-sdk>=1.0.0->wandb) (1.25.8)\n",
      "Requirement already satisfied, skipping upgrade: chardet<3.1.0,>=3.0.2 in c:\\users\\lloyd\\anaconda3\\lib\\site-packages (from requests<3,>=2.0.0->wandb) (3.0.4)\n",
      "Requirement already satisfied, skipping upgrade: idna<2.9,>=2.5 in c:\\users\\lloyd\\anaconda3\\lib\\site-packages (from requests<3,>=2.0.0->wandb) (2.8)\n",
      "Requirement already satisfied, skipping upgrade: termcolor<2.0.0,>=1.1.0 in c:\\users\\lloyd\\anaconda3\\lib\\site-packages (from yaspin>=1.0.0->wandb) (1.1.0)\n",
      "Requirement already satisfied, skipping upgrade: smmap<6,>=3.0.1 in c:\\users\\lloyd\\anaconda3\\lib\\site-packages (from gitdb<5,>=4.0.1->GitPython>=1.0.0->wandb) (5.0.0)\n"
     ]
    }
   ],
   "source": [
    "!pip install --upgrade wandb"
   ]
  },
  {
   "cell_type": "code",
   "execution_count": 1,
   "metadata": {},
   "outputs": [],
   "source": [
    "import torch\n",
    "import torchvision\n",
    "import torchvision.transforms as transforms\n",
    "import torch.optim as optim\n",
    "import torch.nn.functional as F\n",
    "import torch.nn as nn\n",
    "import wandb\n",
    "import os\n",
    "from typing import Any, Dict, List\n",
    "import copy\n",
    "import random\n",
    "import wandb"
   ]
  },
  {
   "cell_type": "code",
   "execution_count": 2,
   "metadata": {},
   "outputs": [],
   "source": [
    "device = torch.device(\"cuda\" if torch.cuda.is_available() else \"cpu\")\n",
    "os.environ[\"WANDB_API_KEY\"] = \"183c1a6a36cbdf0405f5baacb72690845ecc8573\""
   ]
  },
  {
   "cell_type": "code",
   "execution_count": 3,
   "metadata": {
    "scrolled": true
   },
   "outputs": [
    {
     "name": "stdout",
     "output_type": "stream",
     "text": [
      "Files already downloaded and verified\n",
      "Files already downloaded and verified\n"
     ]
    }
   ],
   "source": [
    "transform = transforms.Compose([\n",
    "    transforms.ToTensor(),\n",
    "    transforms.Normalize((0.5, 0.5, 0.5), (0.5, 0.5, 0.5))\n",
    "])\n",
    "\n",
    "'''mnist = torchvision.datasets.MNIST(root='mnist_data', train=True,download=True, transform=transform)\n",
    "\n",
    "trainset = torch.utils.data.DataLoader(dataset=mnist,\n",
    "                                               batch_size=100,\n",
    "                                               shuffle=True)\n",
    "testset = torch.utils.data.DataLoader(dataset=mnist,\n",
    "                                               batch_size=100,\n",
    "                                               shuffle=True)'''\n",
    "\n",
    "\n",
    "trainset = torchvision.datasets.CIFAR10(root='cifar_data', train=True,download=True, transform=transform)\n",
    "testset = torchvision.datasets.CIFAR10(root='cifar_data', train=False, download=True,transform=transform)\n",
    "\n",
    "# # This is for iid data\n",
    "# trainloader = torch.utils.data.DataLoader(trainset, \n",
    "#                                           batch_size=500,\n",
    "#                                           shuffle=True)\n",
    "testloader = torch.utils.data.DataLoader(testset,\n",
    "                                        batch_size=100,\n",
    "                                        shuffle=True)"
   ]
  },
  {
   "cell_type": "code",
   "execution_count": 4,
   "metadata": {},
   "outputs": [],
   "source": [
    "n_client = 30\n",
    "n_leader = int(n_client * 0.1)\n",
    "chosen_prob = 0.8\n",
    "local_batch_size = 32\n",
    "local_epochs = 10"
   ]
  },
  {
   "cell_type": "code",
   "execution_count": 5,
   "metadata": {},
   "outputs": [],
   "source": [
    "epochs = 10\n",
    "criteria = nn.CrossEntropyLoss()\n",
    "optimizer = optim.SGD\n",
    "optimizer_conf = dict(\n",
    "    lr=0.001,\n",
    "    momentum=0.9\n",
    ")"
   ]
  },
  {
   "cell_type": "code",
   "execution_count": 6,
   "metadata": {},
   "outputs": [
    {
     "name": "stdout",
     "output_type": "stream",
     "text": [
      "Requirement already up-to-date: wandb in c:\\users\\lloyd\\anaconda3\\lib\\site-packages (0.12.11)\n",
      "Requirement already satisfied, skipping upgrade: six>=1.13.0 in c:\\users\\lloyd\\anaconda3\\lib\\site-packages (from wandb) (1.16.0)\n",
      "Requirement already satisfied, skipping upgrade: protobuf>=3.12.0 in c:\\users\\lloyd\\anaconda3\\lib\\site-packages (from wandb) (3.19.4)\n",
      "Requirement already satisfied, skipping upgrade: yaspin>=1.0.0 in c:\\users\\lloyd\\anaconda3\\lib\\site-packages (from wandb) (2.1.0)\n",
      "Requirement already satisfied, skipping upgrade: python-dateutil>=2.6.1 in c:\\users\\lloyd\\anaconda3\\lib\\site-packages (from wandb) (2.8.1)\n",
      "Requirement already satisfied, skipping upgrade: PyYAML in c:\\users\\lloyd\\anaconda3\\lib\\site-packages (from wandb) (5.3)\n",
      "Requirement already satisfied, skipping upgrade: promise<3,>=2.0 in c:\\users\\lloyd\\anaconda3\\lib\\site-packages (from wandb) (2.3)\n",
      "Requirement already satisfied, skipping upgrade: GitPython>=1.0.0 in c:\\users\\lloyd\\anaconda3\\lib\\site-packages (from wandb) (3.1.27)\n",
      "Requirement already satisfied, skipping upgrade: pathtools in c:\\users\\lloyd\\anaconda3\\lib\\site-packages (from wandb) (0.1.2)\n",
      "Requirement already satisfied, skipping upgrade: shortuuid>=0.5.0 in c:\\users\\lloyd\\anaconda3\\lib\\site-packages (from wandb) (1.0.8)\n",
      "Requirement already satisfied, skipping upgrade: psutil>=5.0.0 in c:\\users\\lloyd\\anaconda3\\lib\\site-packages (from wandb) (5.6.7)\n",
      "Requirement already satisfied, skipping upgrade: sentry-sdk>=1.0.0 in c:\\users\\lloyd\\anaconda3\\lib\\site-packages (from wandb) (1.5.7)\n",
      "Requirement already satisfied, skipping upgrade: setproctitle in c:\\users\\lloyd\\anaconda3\\lib\\site-packages (from wandb) (1.2.2)\n",
      "Requirement already satisfied, skipping upgrade: docker-pycreds>=0.4.0 in c:\\users\\lloyd\\anaconda3\\lib\\site-packages (from wandb) (0.4.0)\n",
      "Requirement already satisfied, skipping upgrade: Click!=8.0.0,>=7.0 in c:\\users\\lloyd\\anaconda3\\lib\\site-packages (from wandb) (7.0)\n",
      "Requirement already satisfied, skipping upgrade: requests<3,>=2.0.0 in c:\\users\\lloyd\\anaconda3\\lib\\site-packages (from wandb) (2.22.0)\n",
      "Requirement already satisfied, skipping upgrade: termcolor<2.0.0,>=1.1.0 in c:\\users\\lloyd\\anaconda3\\lib\\site-packages (from yaspin>=1.0.0->wandb) (1.1.0)\n",
      "Requirement already satisfied, skipping upgrade: gitdb<5,>=4.0.1 in c:\\users\\lloyd\\anaconda3\\lib\\site-packages (from GitPython>=1.0.0->wandb) (4.0.9)\n",
      "Requirement already satisfied, skipping upgrade: typing-extensions>=3.7.4.3; python_version < \"3.8\" in c:\\users\\lloyd\\anaconda3\\lib\\site-packages (from GitPython>=1.0.0->wandb) (4.1.1)\n",
      "Requirement already satisfied, skipping upgrade: certifi in c:\\users\\lloyd\\anaconda3\\lib\\site-packages (from sentry-sdk>=1.0.0->wandb) (2019.11.28)\n",
      "Requirement already satisfied, skipping upgrade: urllib3>=1.10.0 in c:\\users\\lloyd\\anaconda3\\lib\\site-packages (from sentry-sdk>=1.0.0->wandb) (1.25.8)\n",
      "Requirement already satisfied, skipping upgrade: chardet<3.1.0,>=3.0.2 in c:\\users\\lloyd\\anaconda3\\lib\\site-packages (from requests<3,>=2.0.0->wandb) (3.0.4)\n",
      "Requirement already satisfied, skipping upgrade: idna<2.9,>=2.5 in c:\\users\\lloyd\\anaconda3\\lib\\site-packages (from requests<3,>=2.0.0->wandb) (2.8)\n",
      "Requirement already satisfied, skipping upgrade: smmap<6,>=3.0.1 in c:\\users\\lloyd\\anaconda3\\lib\\site-packages (from gitdb<5,>=4.0.1->GitPython>=1.0.0->wandb) (5.0.0)\n",
      "Requirement already up-to-date: wandb in c:\\users\\lloyd\\anaconda3\\lib\\site-packages (0.12.11)\n",
      "Requirement already satisfied, skipping upgrade: python-dateutil>=2.6.1 in c:\\users\\lloyd\\anaconda3\\lib\\site-packages (from wandb) (2.8.1)\n",
      "Requirement already satisfied, skipping upgrade: sentry-sdk>=1.0.0 in c:\\users\\lloyd\\anaconda3\\lib\\site-packages (from wandb) (1.5.7)\n",
      "Requirement already satisfied, skipping upgrade: promise<3,>=2.0 in c:\\users\\lloyd\\anaconda3\\lib\\site-packages (from wandb) (2.3)\n",
      "Requirement already satisfied, skipping upgrade: PyYAML in c:\\users\\lloyd\\anaconda3\\lib\\site-packages (from wandb) (5.3)\n",
      "Requirement already satisfied, skipping upgrade: shortuuid>=0.5.0 in c:\\users\\lloyd\\anaconda3\\lib\\site-packages (from wandb) (1.0.8)\n",
      "Requirement already satisfied, skipping upgrade: psutil>=5.0.0 in c:\\users\\lloyd\\anaconda3\\lib\\site-packages (from wandb) (5.6.7)\n",
      "Requirement already satisfied, skipping upgrade: Click!=8.0.0,>=7.0 in c:\\users\\lloyd\\anaconda3\\lib\\site-packages (from wandb) (7.0)\n",
      "Requirement already satisfied, skipping upgrade: GitPython>=1.0.0 in c:\\users\\lloyd\\anaconda3\\lib\\site-packages (from wandb) (3.1.27)\n",
      "Requirement already satisfied, skipping upgrade: protobuf>=3.12.0 in c:\\users\\lloyd\\anaconda3\\lib\\site-packages (from wandb) (3.19.4)\n",
      "Requirement already satisfied, skipping upgrade: six>=1.13.0 in c:\\users\\lloyd\\anaconda3\\lib\\site-packages (from wandb) (1.16.0)\n",
      "Requirement already satisfied, skipping upgrade: docker-pycreds>=0.4.0 in c:\\users\\lloyd\\anaconda3\\lib\\site-packages (from wandb) (0.4.0)\n",
      "Requirement already satisfied, skipping upgrade: requests<3,>=2.0.0 in c:\\users\\lloyd\\anaconda3\\lib\\site-packages (from wandb) (2.22.0)\n",
      "Requirement already satisfied, skipping upgrade: pathtools in c:\\users\\lloyd\\anaconda3\\lib\\site-packages (from wandb) (0.1.2)\n",
      "Requirement already satisfied, skipping upgrade: yaspin>=1.0.0 in c:\\users\\lloyd\\anaconda3\\lib\\site-packages (from wandb) (2.1.0)\n",
      "Requirement already satisfied, skipping upgrade: setproctitle in c:\\users\\lloyd\\anaconda3\\lib\\site-packages (from wandb) (1.2.2)\n",
      "Requirement already satisfied, skipping upgrade: urllib3>=1.10.0 in c:\\users\\lloyd\\anaconda3\\lib\\site-packages (from sentry-sdk>=1.0.0->wandb) (1.25.8)\n",
      "Requirement already satisfied, skipping upgrade: certifi in c:\\users\\lloyd\\anaconda3\\lib\\site-packages (from sentry-sdk>=1.0.0->wandb) (2019.11.28)\n",
      "Requirement already satisfied, skipping upgrade: typing-extensions>=3.7.4.3; python_version < \"3.8\" in c:\\users\\lloyd\\anaconda3\\lib\\site-packages (from GitPython>=1.0.0->wandb) (4.1.1)\n",
      "Requirement already satisfied, skipping upgrade: gitdb<5,>=4.0.1 in c:\\users\\lloyd\\anaconda3\\lib\\site-packages (from GitPython>=1.0.0->wandb) (4.0.9)\n",
      "Requirement already satisfied, skipping upgrade: chardet<3.1.0,>=3.0.2 in c:\\users\\lloyd\\anaconda3\\lib\\site-packages (from requests<3,>=2.0.0->wandb) (3.0.4)\n",
      "Requirement already satisfied, skipping upgrade: idna<2.9,>=2.5 in c:\\users\\lloyd\\anaconda3\\lib\\site-packages (from requests<3,>=2.0.0->wandb) (2.8)\n",
      "Requirement already satisfied, skipping upgrade: termcolor<2.0.0,>=1.1.0 in c:\\users\\lloyd\\anaconda3\\lib\\site-packages (from yaspin>=1.0.0->wandb) (1.1.0)\n",
      "Requirement already satisfied, skipping upgrade: smmap<6,>=3.0.1 in c:\\users\\lloyd\\anaconda3\\lib\\site-packages (from gitdb<5,>=4.0.1->GitPython>=1.0.0->wandb) (5.0.0)\n",
      "Requirement already up-to-date: wandb in c:\\users\\lloyd\\anaconda3\\lib\\site-packages (0.12.11)\n",
      "Requirement already satisfied, skipping upgrade: GitPython>=1.0.0 in c:\\users\\lloyd\\anaconda3\\lib\\site-packages (from wandb) (3.1.27)\n",
      "Requirement already satisfied, skipping upgrade: pathtools in c:\\users\\lloyd\\anaconda3\\lib\\site-packages (from wandb) (0.1.2)\n",
      "Requirement already satisfied, skipping upgrade: yaspin>=1.0.0 in c:\\users\\lloyd\\anaconda3\\lib\\site-packages (from wandb) (2.1.0)\n",
      "Requirement already satisfied, skipping upgrade: PyYAML in c:\\users\\lloyd\\anaconda3\\lib\\site-packages (from wandb) (5.3)\n",
      "Requirement already satisfied, skipping upgrade: setproctitle in c:\\users\\lloyd\\anaconda3\\lib\\site-packages (from wandb) (1.2.2)\n",
      "Requirement already satisfied, skipping upgrade: psutil>=5.0.0 in c:\\users\\lloyd\\anaconda3\\lib\\site-packages (from wandb) (5.6.7)\n",
      "Requirement already satisfied, skipping upgrade: docker-pycreds>=0.4.0 in c:\\users\\lloyd\\anaconda3\\lib\\site-packages (from wandb) (0.4.0)\n",
      "Requirement already satisfied, skipping upgrade: shortuuid>=0.5.0 in c:\\users\\lloyd\\anaconda3\\lib\\site-packages (from wandb) (1.0.8)\n",
      "Requirement already satisfied, skipping upgrade: promise<3,>=2.0 in c:\\users\\lloyd\\anaconda3\\lib\\site-packages (from wandb) (2.3)\n",
      "Requirement already satisfied, skipping upgrade: sentry-sdk>=1.0.0 in c:\\users\\lloyd\\anaconda3\\lib\\site-packages (from wandb) (1.5.7)\n",
      "Requirement already satisfied, skipping upgrade: protobuf>=3.12.0 in c:\\users\\lloyd\\anaconda3\\lib\\site-packages (from wandb) (3.19.4)\n",
      "Requirement already satisfied, skipping upgrade: six>=1.13.0 in c:\\users\\lloyd\\anaconda3\\lib\\site-packages (from wandb) (1.16.0)\n",
      "Requirement already satisfied, skipping upgrade: Click!=8.0.0,>=7.0 in c:\\users\\lloyd\\anaconda3\\lib\\site-packages (from wandb) (7.0)\n",
      "Requirement already satisfied, skipping upgrade: requests<3,>=2.0.0 in c:\\users\\lloyd\\anaconda3\\lib\\site-packages (from wandb) (2.22.0)\n",
      "Requirement already satisfied, skipping upgrade: python-dateutil>=2.6.1 in c:\\users\\lloyd\\anaconda3\\lib\\site-packages (from wandb) (2.8.1)\n",
      "Requirement already satisfied, skipping upgrade: typing-extensions>=3.7.4.3; python_version < \"3.8\" in c:\\users\\lloyd\\anaconda3\\lib\\site-packages (from GitPython>=1.0.0->wandb) (4.1.1)\n",
      "Requirement already satisfied, skipping upgrade: gitdb<5,>=4.0.1 in c:\\users\\lloyd\\anaconda3\\lib\\site-packages (from GitPython>=1.0.0->wandb) (4.0.9)\n",
      "Requirement already satisfied, skipping upgrade: termcolor<2.0.0,>=1.1.0 in c:\\users\\lloyd\\anaconda3\\lib\\site-packages (from yaspin>=1.0.0->wandb) (1.1.0)\n",
      "Requirement already satisfied, skipping upgrade: certifi in c:\\users\\lloyd\\anaconda3\\lib\\site-packages (from sentry-sdk>=1.0.0->wandb) (2019.11.28)\n",
      "Requirement already satisfied, skipping upgrade: urllib3>=1.10.0 in c:\\users\\lloyd\\anaconda3\\lib\\site-packages (from sentry-sdk>=1.0.0->wandb) (1.25.8)\n",
      "Requirement already satisfied, skipping upgrade: chardet<3.1.0,>=3.0.2 in c:\\users\\lloyd\\anaconda3\\lib\\site-packages (from requests<3,>=2.0.0->wandb) (3.0.4)\n",
      "Requirement already satisfied, skipping upgrade: idna<2.9,>=2.5 in c:\\users\\lloyd\\anaconda3\\lib\\site-packages (from requests<3,>=2.0.0->wandb) (2.8)\n",
      "Requirement already satisfied, skipping upgrade: smmap<6,>=3.0.1 in c:\\users\\lloyd\\anaconda3\\lib\\site-packages (from gitdb<5,>=4.0.1->GitPython>=1.0.0->wandb) (5.0.0)\n",
      "3\n"
     ]
    }
   ],
   "source": [
    "import custom_model\n",
    "import server\n",
    "model = custom_model.Net().to(device)\n",
    "print(n_leader)\n",
    "\n",
    "server_list: List[server.Server] = []\n",
    "\n",
    "#print(len(server_list))\n",
    "leaderStep = int(n_client/n_leader)\n",
    "\n",
    "    "
   ]
  },
  {
   "cell_type": "code",
   "execution_count": 7,
   "metadata": {},
   "outputs": [
    {
     "data": {
      "image/png": "[encoded data removed]",
      "text/plain": [
       "<Figure size 1152x576 with 1 Axes>"
      ]
     },
     "metadata": {
      "needs_background": "light"
     },
     "output_type": "display_data"
    },
    {
     "name": "stdout",
     "output_type": "stream",
     "text": [
      "labels of clusters: [0 1 1 2 0 2 1 0 1 1 1 2 2 2 0 0 1 0 0 2 0 2 0 2 2 2 2 2 2 0]\n"
     ]
    },
    {
     "data": {
      "image/png": "[encoded data removed]",
      "text/plain": [
       "<Figure size 432x288 with 1 Axes>"
      ]
     },
     "metadata": {
      "needs_background": "light"
     },
     "output_type": "display_data"
    }
   ],
   "source": [
    "from collections import Counter\n",
    "import random\n",
    "import numpy as np\n",
    "import logging\n",
    "import clustering\n",
    "import clients\n",
    "import numpy\n",
    "from scipy.spatial.distance import cdist\n",
    "from mobility import gauss_markov, reference_point_group, \\\n",
    "    tvc, truncated_levy_walk, random_direction, random_waypoint, random_walk\n",
    "from tqdm import tqdm\n",
    "\n",
    "import matplotlib.pyplot as plt\n",
    "%matplotlib inline\n",
    "import numpy as np\n",
    "from sklearn.cluster import KMeans\n",
    "import kmean_clustering\n",
    "\n",
    "classes_pair = [(0, 1), (2, 3), (4, 5), (6, 7), (8, 9)]\n",
    "\n",
    "data_label = np.array(trainset.targets)\n",
    "\n",
    "nr_nodes = int(n_client)\n",
    "\n",
    "logger = logging.getLogger(\"vanet\")\n",
    "\n",
    "step = 0\n",
    "np.random.seed(0xffff)\n",
    "\n",
    "# simulation area (units)\n",
    "MAX_X, MAX_Y = 100, 100\n",
    "\n",
    "# max and min velocity\n",
    "MIN_V, MAX_V = 0.1, 1.\n",
    "\n",
    "# max waiting time\n",
    "MAX_WT = 100.\n",
    "\n",
    "# number of steps to ignore before start plotting\n",
    "STEPS_TO_IGNORE = 10000\n",
    "\n",
    "# set this to true if you want to calculate node contacts\n",
    "CALCULATE_CONTACTS = False\n",
    "\n",
    "# if calculating contacts, this is the range to be used\n",
    "# (if a distance(a,b) < RANGE, then there is a contact betwen a and b)\n",
    "RANGE = 1.\n",
    "\n",
    "rw = random_walk(nr_nodes, dimensions=(MAX_X, MAX_Y))\n",
    "    \n",
    "cluster = clustering.Cluster(nr_nodes,\n",
    "                             step,MAX_X, \n",
    "                             MAX_Y,MIN_V, \n",
    "                             MAX_V,MAX_WT,\n",
    "                             STEPS_TO_IGNORE,\n",
    "                             CALCULATE_CONTACTS,\n",
    "                             RANGE,rw)\n",
    "\n",
    "coordinate = cluster.coord(rw)\n",
    "#print(coordinate)\n",
    "\n",
    "#KMeans Clustering\n",
    "kmean_cluster = kmean_clustering.Kmeans_cluster(coordinate, n_leader, n_leader, [], None, [], n_client)\n",
    "\n",
    "best_k = kmean_cluster.getElbowCurve(coordinate)\n",
    "\n",
    "kmeans = kmean_cluster.createCluster(best_k,coordinate)\n",
    "\n",
    "cluster_coords = kmean_cluster.initiaiseClusterCoordinates(kmeans)\n",
    "\n",
    "client_list = kmean_cluster.getClientList(cluster_coords)\n",
    "\n",
    "cluster_coords = kmean_cluster.fillingNoneValue(cluster_coords)         \n",
    "            \n",
    "\n",
    "\n",
    "#TODO - repeat above steps using loops to plot mobility\n",
    "#TODO - show calculation/communication/output between nodes"
   ]
  },
  {
   "cell_type": "code",
   "execution_count": 9,
   "metadata": {},
   "outputs": [],
   "source": [
    "servers = []\n",
    "\n",
    "for i in range(0,n_leader):\n",
    "    server_list = server.Server(\n",
    "        model=model,\n",
    "        loss=criteria,\n",
    "        optimizer=optimizer,\n",
    "        n_client=client_list[i],\n",
    "        #n_leader=n_leader,\n",
    "        chosen_prob=chosen_prob,\n",
    "        optimizer_conf=optimizer_conf,\n",
    "        local_batch_size=local_batch_size,\n",
    "        local_epochs=local_epochs\n",
    "    )\n",
    "    servers.append(server_list)\n",
    "    \n",
    "def initialiseClientCoordinates(best_k,coordinate,cluster_coords):\n",
    "    for i in range(int(best_k)):\n",
    "        #print(str('for server: ') + str(i))\n",
    "        for j in range(len(coordinate)):\n",
    "            for k in range(len(cluster_coords[i])):\n",
    "                if (cluster_coords[i][j] == k):\n",
    "                    #print(str(cluster_coords[i][j])+ str(' coord: ') + str(coordinate[k]))\n",
    "                    servers[i].client_pool[j].setXCoordinate(coordinate[k][0])\n",
    "                    servers[i].client_pool[j].setYCoordinate(coordinate[k][1])\n",
    "\n",
    "        \n",
    "initialiseClientCoordinates(best_k,coordinate,cluster_coords)\n",
    "\n",
    "def showClient():\n",
    "    for i in range(int(best_k)):\n",
    "        for j in range(client_list[i]):\n",
    "            print(str('for server: ') + str(i) + str(' client ') + str(j) \n",
    "                  + str(' coordinates ') + str(servers[i].client_pool[j].actual_Xcoord) + str(', ') \n",
    "                  + str(servers[i].client_pool[j].actual_Ycoord))\n",
    "            \n",
    "#showClient()"
   ]
  },
  {
   "cell_type": "code",
   "execution_count": 11,
   "metadata": {},
   "outputs": [
    {
     "name": "stdout",
     "output_type": "stream",
     "text": [
      "labels of clusters: [0 2 2 1 0 1 2 0 2 2 2 1 1 1 0 0 2 0 0 1 0 1 0 1 1 1 1 1 1 0]\n",
      "labels of clusters: [0 1 1 2 0 2 1 0 1 1 1 2 2 2 0 0 1 0 0 2 0 2 0 2 2 2 2 2 2 0]\n",
      "labels of clusters: [0 2 2 1 0 1 2 0 2 2 2 1 1 1 0 0 2 0 0 1 0 1 0 1 1 1 1 1 1 0]\n",
      "labels of clusters: [2 1 0 1 0 2 1 0 0 0 1 1 2 2 0 0 1 0 0 1 0 2 0 1 1 2 1 1 1 2]\n",
      "labels of clusters: [2 0 1 0 1 2 0 1 1 1 0 0 2 2 1 1 0 1 1 0 1 2 1 0 0 2 0 0 0 2]\n",
      "labels of clusters: [1 2 2 0 1 0 2 1 2 2 2 0 0 0 1 1 2 1 1 0 1 0 1 0 0 1 0 0 0 1]\n",
      "labels of clusters: [0 2 1 2 1 0 2 1 1 1 2 2 0 0 1 1 2 1 1 2 1 0 1 2 2 0 2 2 2 0]\n",
      "labels of clusters: [0 2 1 2 1 0 2 0 1 1 2 2 0 0 1 1 2 1 1 2 1 0 1 2 2 0 2 2 2 0]\n",
      "labels of clusters: [0 1 2 1 2 0 1 0 2 2 1 1 0 0 2 2 1 2 2 1 2 0 2 1 1 0 1 1 1 0]\n",
      "labels of clusters: [2 1 0 1 0 2 1 0 0 0 1 1 2 2 0 0 1 0 0 1 0 2 0 1 1 2 1 1 1 2]\n"
     ]
    },
    {
     "data": {
      "image/png": "[encoded data removed]",
      "text/plain": [
       "<Figure size 432x288 with 1 Axes>"
      ]
     },
     "metadata": {
      "needs_background": "light"
     },
     "output_type": "display_data"
    }
   ],
   "source": [
    "#looping process\n",
    "import time\n",
    "coordinate_array = []\n",
    "best_ks = []\n",
    "cluster_array = []\n",
    "kmeans_array = []\n",
    "cluster_coords_array = []\n",
    "colours=['r','g','b','k']\n",
    "for i in range(epochs):\n",
    "    coordinate_array.append(cluster.coord(rw))\n",
    "    #best_ks.append(getElbowCurve(coordinate_array[i]))\n",
    "    kmeans_array.append(kmean_cluster.createCluster(3,coordinate_array[i]))\n",
    "    kmean_cluster.plotCluster(kmeans_array[i],coordinate_array[i])\n",
    "    #print(i)\n",
    "    #plt.scatter(coordinate_array[i][:,0],coordinate_array[i][:,1], c=kmeans_array[i].labels_, cmap='viridis')\n",
    "    #plt.scatter(kmeans_array[i].cluster_centers_[:,0] ,kmeans_array[i].cluster_centers_[:,1], color='black')\n",
    "    #time.sleep(1)\n",
    "    #kmeans_array.append(createCluster(3))\n",
    "    #print(coordinate_array[i])\n",
    "    #cluster_coords_array.append(initiaiseClusterCoordinates(kmeans_array[i]))\n",
    "    "
   ]
  },
  {
   "cell_type": "code",
   "execution_count": null,
   "metadata": {},
   "outputs": [],
   "source": [
    "import matplotlib.pyplot as plt\n",
    "x=[[1,2,3,4],[1,2,3,4],[1,2,3,4],[1,2,3,4]]\n",
    "y=[[1,2,3,4],[1,2,3,4],[1,2,3,4],[1,2,3,4]]\n",
    "for i in range(len(x)):\n",
    "    plt.figure()\n",
    "    plt.plot(x[i],y[i])\n",
    "    # Show/save figure as desired.\n",
    "    plt.show()"
   ]
  },
  {
   "cell_type": "code",
   "execution_count": 125,
   "metadata": {},
   "outputs": [
    {
     "name": "stderr",
     "output_type": "stream",
     "text": [
      "10it [00:09,  1.02it/s]\n",
      "7it [00:04,  1.61it/s]\n",
      "13it [00:18,  1.40s/it]"
     ]
    },
    {
     "name": "stdout",
     "output_type": "stream",
     "text": [
      "For client 0 in server 0 the lenght of data is 1000\n",
      "For client 1 in server 0 the lenght of data is 1000\n",
      "For client 2 in server 0 the lenght of data is 1000\n",
      "For client 3 in server 0 the lenght of data is 1000\n",
      "For client 4 in server 0 the lenght of data is 1000\n",
      "For client 5 in server 0 the lenght of data is 1000\n",
      "For client 6 in server 0 the lenght of data is 1000\n",
      "For client 7 in server 0 the lenght of data is 1000\n",
      "For client 8 in server 0 the lenght of data is 1000\n",
      "For client 9 in server 0 the lenght of data is 1000\n",
      "The number of client in server 0 is: 10\n",
      "For client 0 in server 1 the lenght of data is 1000\n",
      "For client 1 in server 1 the lenght of data is 1000\n",
      "For client 2 in server 1 the lenght of data is 1000\n",
      "For client 3 in server 1 the lenght of data is 1000\n",
      "For client 4 in server 1 the lenght of data is 1000\n",
      "For client 5 in server 1 the lenght of data is 1000\n",
      "For client 6 in server 1 the lenght of data is 1000\n",
      "The number of client in server 1 is: 7\n",
      "For client 0 in server 2 the lenght of data is 1000\n",
      "For client 1 in server 2 the lenght of data is 1000\n",
      "For client 2 in server 2 the lenght of data is 1000\n",
      "For client 3 in server 2 the lenght of data is 1000\n",
      "For client 4 in server 2 the lenght of data is 1000\n",
      "For client 5 in server 2 the lenght of data is 1000\n",
      "For client 6 in server 2 the lenght of data is 1000\n",
      "For client 7 in server 2 the lenght of data is 1000\n",
      "For client 8 in server 2 the lenght of data is 1000\n",
      "For client 9 in server 2 the lenght of data is 1000\n",
      "For client 10 in server 2 the lenght of data is 1000\n",
      "For client 11 in server 2 the lenght of data is 1000\n",
      "For client 12 in server 2 the lenght of data is 1000\n",
      "The number of client in server 2 is: 13\n"
     ]
    },
    {
     "name": "stderr",
     "output_type": "stream",
     "text": [
      "\n"
     ]
    }
   ],
   "source": [
    "\n",
    "# # This is for iid data\n",
    "# for batch_idx, (batch_feature, batch_label) in enumerate(trainloader):\n",
    "#     server.client_pool[batch_idx].setData(list(zip(batch_feature, batch_label)))\n",
    "\n",
    "# This is for non-iid data                   \n",
    "chosen_counter = Counter()\n",
    "for i in range(len(servers)):\n",
    "    for _, client in tqdm(enumerate(servers[i].client_pool)):\n",
    "        # sample until we have a pair of class with insufficient client owning\n",
    "        class_pair = random.choice(classes_pair)\n",
    "        while chosen_counter[class_pair] == 100:\n",
    "            class_pair = random.choice(classes_pair)\n",
    "\n",
    "        chosen_counter[class_pair] += 1\n",
    "\n",
    "        first_class, second_class = class_pair\n",
    "        first_class_sample_idx = list(np.where(data_label == first_class)[0])\n",
    "        second_class_sample_idx = list(np.where(data_label == second_class)[0])\n",
    "\n",
    "        client_first_class_sample_idx = random.sample(first_class_sample_idx, k=500)\n",
    "        client_second_class_sample_idx = random.sample(second_class_sample_idx, k=500)\n",
    "\n",
    "        client_data = []\n",
    "\n",
    "        for i in range(500):\n",
    "            client_data.append(trainset[client_first_class_sample_idx[i]])\n",
    "            client_data.append(trainset[client_second_class_sample_idx[i]])\n",
    "\n",
    "        client.setData(client_data)\n",
    "        #print(client_data)\n",
    "        #print(client.setData(client_data))print(model.conv1.weight.grad)\n",
    "for i in range(len(servers)):\n",
    "    for j in range(len(servers[i].client_pool)):\n",
    "        print(str('For client ')+str(j)+str(' in server ')+str(i)+str(' the lenght of data is ')+str(len(servers[i].client_pool[j].data)))\n",
    "    print(str('The number of client in server ')+str(i)+str(' is: ')+str(len(servers[i].client_pool)))\n",
    "\n"
   ]
  },
  {
   "cell_type": "code",
   "execution_count": 10,
   "metadata": {
    "scrolled": false
   },
   "outputs": [
    {
     "name": "stderr",
     "output_type": "stream",
     "text": [
      "wandb: Currently logged in as: minhrongcon2000 (use `wandb login --relogin` to force relogin)\n"
     ]
    },
    {
     "data": {
      "text/html": [
       "Tracking run with wandb version 0.12.11"
      ],
      "text/plain": [
       "<IPython.core.display.HTML object>"
      ]
     },
     "metadata": {},
     "output_type": "display_data"
    },
    {
     "data": {
      "text/html": [
       "Run data is saved locally in <code>C:\\Users\\lloyd\\Desktop\\VANET\\FL\\wandb\\run-20220325_132529-2q100rjo</code>"
      ],
      "text/plain": [
       "<IPython.core.display.HTML object>"
      ]
     },
     "metadata": {},
     "output_type": "display_data"
    },
    {
     "data": {
      "text/html": [
       "Syncing run <strong><a href=\"https://wandb.ai/minhrongcon2000/fl/runs/2q100rjo\" target=\"_blank\">CNN_CIFAR_10_noniid</a></strong> to <a href=\"https://wandb.ai/minhrongcon2000/fl\" target=\"_blank\">Weights & Biases</a> (<a href=\"https://wandb.me/run\" target=\"_blank\">docs</a>)<br/>"
      ],
      "text/plain": [
       "<IPython.core.display.HTML object>"
      ]
     },
     "metadata": {},
     "output_type": "display_data"
    },
    {
     "name": "stdout",
     "output_type": "stream",
     "text": [
      "Client 8: Acc 0.548828125, Loss: 0.6850277874618769\n",
      "Client 4: Acc 0.5791015625, Loss: 0.6843983419239521\n",
      "Client 2: Acc 0.5986328125, Loss: 0.6841990929096937\n",
      "Client 1: Acc 0.59765625, Loss: 0.6771735604852438\n",
      "Client 0: Acc 0.5947265625, Loss: 0.6783702149987221\n",
      "Client 3: Acc 0.634765625, Loss: 0.6404716726392508\n",
      "Client 5: Acc 0.7041015625, Loss: 0.5590559653937817\n",
      "Client 9: Acc 0.66796875, Loss: 0.6251867050305009\n",
      "Overall acc: 0.61572265625, overall_loss: 0.6542354176053777\n",
      "Client 7: Acc 0.6005859375, Loss: 0.6611899938434362\n",
      "Client 8: Acc 0.609375, Loss: 0.6397820301353931\n",
      "Client 0: Acc 0.59765625, Loss: 0.6514705643057823\n",
      "Client 6: Acc 0.70703125, Loss: 0.5704839928075671\n",
      "Client 4: Acc 0.6337890625, Loss: 0.6312878057360649\n",
      "Client 9: Acc 0.6162109375, Loss: 0.6620200742036104\n",
      "Client 5: Acc 0.6083984375, Loss: 0.6421670001000166\n",
      "Client 3: Acc 0.5634765625, Loss: 0.6979805566370487\n",
      "Overall acc: 0.6170654296875, overall_loss: 0.6445477522211149\n",
      "Client 8: Acc 0.6728515625, Loss: 0.5985679533332586\n",
      "Client 2: Acc 0.615234375, Loss: 0.6387369558215141\n",
      "Client 0: Acc 0.6318359375, Loss: 0.6488446053117514\n",
      "Client 6: Acc 0.595703125, Loss: 0.674697557464242\n",
      "Client 7: Acc 0.705078125, Loss: 0.5685807233676314\n",
      "Client 5: Acc 0.716796875, Loss: 0.5161087503656745\n",
      "Client 4: Acc 0.587890625, Loss: 0.6811518594622612\n",
      "Client 1: Acc 0.6259765625, Loss: 0.6547091342508793\n",
      "Overall acc: 0.6439208984375, overall_loss: 0.6226746924221516\n",
      "Client 5: Acc 0.6669921875, Loss: 0.5882657002657652\n",
      "Client 7: Acc 0.7177734375, Loss: 0.5605791956186295\n",
      "Client 6: Acc 0.7392578125, Loss: 0.5019518090412021\n",
      "Client 4: Acc 0.6982421875, Loss: 0.5666752923280001\n",
      "Client 0: Acc 0.5830078125, Loss: 0.6819186974316835\n",
      "Client 9: Acc 0.689453125, Loss: 0.5986027456820011\n",
      "Client 3: Acc 0.611328125, Loss: 0.6620229668915272\n",
      "Client 2: Acc 0.685546875, Loss: 0.6056546466425061\n",
      "Overall acc: 0.6739501953125, overall_loss: 0.5957088817376643\n",
      "Client 6: Acc 0.59375, Loss: 0.6760689131915569\n",
      "Client 8: Acc 0.701171875, Loss: 0.571067938581109\n",
      "Client 4: Acc 0.6435546875, Loss: 0.6115637943148613\n",
      "Client 7: Acc 0.6923828125, Loss: 0.5726926447823644\n",
      "Client 2: Acc 0.62890625, Loss: 0.6237980760633945\n",
      "Client 1: Acc 0.6396484375, Loss: 0.6467058937996626\n",
      "Client 0: Acc 0.58984375, Loss: 0.6745816022157669\n",
      "Client 9: Acc 0.734375, Loss: 0.5081458799540997\n",
      "Overall acc: 0.6529541015625, overall_loss: 0.6105780928628519\n",
      "Client 6: Acc 0.763671875, Loss: 0.47520919144153595\n",
      "Client 8: Acc 0.7607421875, Loss: 0.45470318105071783\n",
      "Client 3: Acc 0.6162109375, Loss: 0.6469619516283274\n",
      "Client 2: Acc 0.7236328125, Loss: 0.5439372444525361\n",
      "Client 1: Acc 0.7509765625, Loss: 0.49359237402677536\n",
      "Client 0: Acc 0.7216796875, Loss: 0.5645352900028229\n",
      "Client 5: Acc 0.7724609375, Loss: 0.45777031779289246\n",
      "Client 7: Acc 0.78125, Loss: 0.462462704628706\n",
      "Overall acc: 0.736328125, overall_loss: 0.5123965318780392\n",
      "Client 7: Acc 0.75, Loss: 0.49405039194971323\n",
      "Client 1: Acc 0.642578125, Loss: 0.6385608147829771\n",
      "Client 3: Acc 0.7294921875, Loss: 0.5074834916740656\n",
      "Client 5: Acc 0.751953125, Loss: 0.4700860781595111\n",
      "Client 8: Acc 0.73046875, Loss: 0.5329597983509302\n",
      "Client 4: Acc 0.6748046875, Loss: 0.5900800991803408\n",
      "Client 9: Acc 0.748046875, Loss: 0.4889779193326831\n",
      "Client 0: Acc 0.6572265625, Loss: 0.6126906964927912\n",
      "Overall acc: 0.7105712890625, overall_loss: 0.5418611612403765\n",
      "Client 7: Acc 0.7744140625, Loss: 0.45490156346932054\n",
      "Client 0: Acc 0.7333984375, Loss: 0.5238842610269785\n",
      "Client 9: Acc 0.7265625, Loss: 0.5221973666921258\n",
      "Client 2: Acc 0.7314453125, Loss: 0.5190428365021944\n",
      "Client 1: Acc 0.755859375, Loss: 0.47133528999984264\n",
      "Client 3: Acc 0.607421875, Loss: 0.6536966282874346\n",
      "Client 5: Acc 0.8046875, Loss: 0.40327395405620337\n",
      "Client 6: Acc 0.76953125, Loss: 0.4481339044868946\n",
      "Overall acc: 0.7379150390625, overall_loss: 0.4995582255651243\n",
      "Client 6: Acc 0.6708984375, Loss: 0.6043312922120094\n",
      "Client 9: Acc 0.7666015625, Loss: 0.4654114879667759\n",
      "Client 3: Acc 0.779296875, Loss: 0.45610825158655643\n",
      "Client 4: Acc 0.68359375, Loss: 0.5681697502732277\n",
      "Client 8: Acc 0.755859375, Loss: 0.47750202007591724\n",
      "Client 2: Acc 0.6796875, Loss: 0.5616222331300378\n",
      "Client 5: Acc 0.7626953125, Loss: 0.45551405381411314\n",
      "Client 1: Acc 0.61328125, Loss: 0.6450632950291038\n",
      "Overall acc: 0.7139892578125, overall_loss: 0.5292152980109677\n",
      "Client 7: Acc 0.81640625, Loss: 0.38123809546232224\n",
      "Client 0: Acc 0.765625, Loss: 0.4749282216653228\n",
      "Client 6: Acc 0.7919921875, Loss: 0.4264591094106436\n",
      "Client 4: Acc 0.8310546875, Loss: 0.3459461126476526\n",
      "Client 5: Acc 0.8193359375, Loss: 0.35469864727929235\n",
      "Client 1: Acc 0.7890625, Loss: 0.42001389153301716\n",
      "Client 8: Acc 0.8056640625, Loss: 0.3828363036736846\n",
      "Client 3: Acc 0.630859375, Loss: 0.6329140067100525\n",
      "Overall acc: 0.78125, overall_loss: 0.4273792985477485\n",
      "Client 6: Acc 0.6904296875, Loss: 0.5838537812232971\n",
      "Client 8: Acc 0.7724609375, Loss: 0.4530615918338299\n",
      "Client 1: Acc 0.666015625, Loss: 0.583873251453042\n",
      "Client 3: Acc 0.794921875, Loss: 0.4133716318756342\n",
      "Client 0: Acc 0.708984375, Loss: 0.552998686209321\n",
      "Client 9: Acc 0.791015625, Loss: 0.4264960386790335\n",
      "Client 2: Acc 0.701171875, Loss: 0.5533553715795279\n",
      "Client 7: Acc 0.7939453125, Loss: 0.41425803443416953\n",
      "Overall acc: 0.7398681640625, overall_loss: 0.4976585484109819\n",
      "Client 9: Acc 0.7568359375, Loss: 0.4577501658350229\n",
      "Client 3: Acc 0.662109375, Loss: 0.6046874755993485\n",
      "Client 6: Acc 0.7900390625, Loss: 0.41124633699655533\n",
      "Client 1: Acc 0.8076171875, Loss: 0.3891708981245756\n",
      "Client 8: Acc 0.830078125, Loss: 0.35009745229035616\n",
      "Client 2: Acc 0.7705078125, Loss: 0.4570698933675885\n",
      "Client 7: Acc 0.84375, Loss: 0.34755056677386165\n",
      "Client 0: Acc 0.7822265625, Loss: 0.4708475135266781\n",
      "Overall acc: 0.7803955078125, overall_loss: 0.43605253781424835\n",
      "Client 0: Acc 0.7158203125, Loss: 0.539098541252315\n",
      "Client 4: Acc 0.73046875, Loss: 0.5135674430057406\n",
      "Client 3: Acc 0.8154296875, Loss: 0.38459494477137923\n",
      "Client 2: Acc 0.7294921875, Loss: 0.5083939889445901\n",
      "Client 8: Acc 0.787109375, Loss: 0.4467099606990814\n",
      "Client 5: Acc 0.787109375, Loss: 0.38961130613461137\n",
      "Client 1: Acc 0.7099609375, Loss: 0.5373762641102076\n",
      "Client 7: Acc 0.8271484375, Loss: 0.3749709017574787\n",
      "Overall acc: 0.7628173828125, overall_loss: 0.4617904188344255\n",
      "Client 2: Acc 0.7880859375, Loss: 0.4041400377172977\n",
      "Client 6: Acc 0.806640625, Loss: 0.3757728338241577\n",
      "Client 8: Acc 0.8408203125, Loss: 0.3292781584896147\n",
      "Client 1: Acc 0.8125, Loss: 0.3715269477106631\n",
      "Client 3: Acc 0.708984375, Loss: 0.5497410278767347\n",
      "Client 5: Acc 0.8359375, Loss: 0.31998192332684994\n",
      "Client 4: Acc 0.8515625, Loss: 0.30358130927197635\n",
      "Client 9: Acc 0.7998046875, Loss: 0.4085371447727084\n",
      "Overall acc: 0.8055419921875, overall_loss: 0.38281992287375033\n",
      "Client 7: Acc 0.83203125, Loss: 0.364668314345181\n",
      "Client 3: Acc 0.8212890625, Loss: 0.3682789015583694\n",
      "Client 4: Acc 0.7470703125, Loss: 0.481195829808712\n",
      "Client 8: Acc 0.81640625, Loss: 0.3861657539382577\n",
      "Client 6: Acc 0.7236328125, Loss: 0.5227831955999136\n",
      "Client 2: Acc 0.74609375, Loss: 0.47291331365704536\n",
      "Client 5: Acc 0.8046875, Loss: 0.3776940298266709\n",
      "Client 9: Acc 0.8056640625, Loss: 0.38444260135293007\n",
      "Overall acc: 0.787109375, overall_loss: 0.419767742510885\n",
      "Client 4: Acc 0.8642578125, Loss: 0.2765620397403836\n",
      "Client 3: Acc 0.697265625, Loss: 0.5635915733873844\n",
      "Client 5: Acc 0.84375, Loss: 0.33318416913971305\n",
      "Client 9: Acc 0.8037109375, Loss: 0.3939318344928324\n",
      "Client 6: Acc 0.8095703125, Loss: 0.38890496734529734\n",
      "Client 1: Acc 0.8076171875, Loss: 0.3771015405654907\n",
      "Client 2: Acc 0.8056640625, Loss: 0.40270113106817007\n",
      "Client 7: Acc 0.845703125, Loss: 0.34057243168354034\n",
      "Overall acc: 0.8096923828125, overall_loss: 0.3845687109278515\n",
      "Client 1: Acc 0.7275390625, Loss: 0.5142466984689236\n",
      "Client 5: Acc 0.8115234375, Loss: 0.3651224235072732\n",
      "Client 0: Acc 0.7294921875, Loss: 0.5198244890198112\n",
      "Client 9: Acc 0.8212890625, Loss: 0.36336115933954716\n",
      "Client 3: Acc 0.8359375, Loss: 0.3262737700715661\n",
      "Client 7: Acc 0.8271484375, Loss: 0.3382740900851786\n",
      "Client 6: Acc 0.7275390625, Loss: 0.5121933417394757\n",
      "Client 4: Acc 0.76953125, Loss: 0.4594284794293344\n",
      "Overall acc: 0.78125, overall_loss: 0.42484055645763874\n",
      "Client 6: Acc 0.830078125, Loss: 0.34160997113212943\n"
     ]
    },
    {
     "name": "stdout",
     "output_type": "stream",
     "text": [
      "Client 2: Acc 0.8330078125, Loss: 0.3674056106247008\n",
      "Client 4: Acc 0.873046875, Loss: 0.26686237240210176\n",
      "Client 9: Acc 0.8115234375, Loss: 0.37318673403933644\n",
      "Client 7: Acc 0.861328125, Loss: 0.2976384861394763\n",
      "Client 0: Acc 0.7998046875, Loss: 0.4079610677435994\n",
      "Client 5: Acc 0.8779296875, Loss: 0.26747901481576264\n",
      "Client 1: Acc 0.8349609375, Loss: 0.3512363424524665\n",
      "Overall acc: 0.8402099609375, overall_loss: 0.33417244991869666\n",
      "Client 2: Acc 0.7646484375, Loss: 0.45410188753157854\n",
      "Client 3: Acc 0.8466796875, Loss: 0.3108148709870875\n",
      "Client 9: Acc 0.822265625, Loss: 0.3626842391677201\n",
      "Client 0: Acc 0.7607421875, Loss: 0.46569529734551907\n",
      "Client 6: Acc 0.74609375, Loss: 0.49764801980927587\n",
      "Client 4: Acc 0.763671875, Loss: 0.45079417154192924\n",
      "Client 8: Acc 0.8349609375, Loss: 0.33793432964012027\n",
      "Client 5: Acc 0.8251953125, Loss: 0.34198452066630125\n",
      "Overall acc: 0.7955322265625, overall_loss: 0.4027071670861915\n",
      "Client 1: Acc 0.8388671875, Loss: 0.3286712537519634\n",
      "Client 2: Acc 0.8310546875, Loss: 0.3586093378253281\n",
      "Client 7: Acc 0.8642578125, Loss: 0.28941648872569203\n",
      "Client 9: Acc 0.802734375, Loss: 0.38516551023349166\n",
      "Client 8: Acc 0.84765625, Loss: 0.30773276183754206\n",
      "Client 3: Acc 0.7412109375, Loss: 0.5018471907824278\n",
      "Client 0: Acc 0.8212890625, Loss: 0.3794538704678416\n",
      "Client 5: Acc 0.87890625, Loss: 0.2578565590083599\n",
      "Overall acc: 0.8282470703125, overall_loss: 0.3510941215790808\n"
     ]
    }
   ],
   "source": [
    "wandb.init(project=\"fl\", name=\"CNN_CIFAR_10_noniid\")\n",
    "#print((servers[0].client_pool[0].data))\n",
    "aggregates = []\n",
    "\n",
    "    \n",
    "for i in range(epochs):\n",
    "    for j in range(len(servers)):\n",
    "        servers[j].aggregate()\n",
    "        servers[j].broadcast()\n",
    "        total_correct = 0\n",
    "        #with torch.no_grad():\n",
    "        for _, (test_feature, test_label) in enumerate(testloader):\n",
    "            test_feature = test_feature.to(device)\n",
    "            test_label = test_label.to(device)\n",
    "            y_pred = servers[j].model(test_feature)\n",
    "            y_pred_decode = torch.argmax(y_pred, dim=1)\n",
    "\n",
    "            total_correct += y_pred_decode.eq(test_label).sum().item()\n",
    "            #print(str('total_correct ')+str(total_correct))\n",
    "        test_acc = total_correct / 10000\n",
    "\n",
    "        print(\"Overall acc: {}, overall_loss: {}\".format(servers[j].avg_acc, servers[j].avg_loss))\n",
    "        wandb.log({\"acc\": servers[j].avg_acc, \"loss\": servers[j].avg_loss})\n",
    "#print(model.conv1.weight.grad)"
   ]
  },
  {
   "cell_type": "code",
   "execution_count": null,
   "metadata": {},
   "outputs": [],
   "source": []
  }
 ],
 "metadata": {
  "kernelspec": {
   "display_name": "Python 3",
   "language": "python",
   "name": "python3"
  },
  "language_info": {
   "codemirror_mode": {
    "name": "ipython",
    "version": 3
   },
   "file_extension": ".py",
   "mimetype": "text/x-python",
   "name": "python",
   "nbconvert_exporter": "python",
   "pygments_lexer": "ipython3",
   "version": "3.7.6"
  }
 },
 "nbformat": 4,
 "nbformat_minor": 4
}
